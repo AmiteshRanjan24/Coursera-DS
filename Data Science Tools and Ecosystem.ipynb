{
 "cells": [
  {
   "cell_type": "markdown",
   "id": "75b5afcd",
   "metadata": {},
   "source": [
    "# Final Project: Data Science Tools and Ecosystem"
   ]
  },
  {
   "cell_type": "markdown",
   "id": "6eea7c0b",
   "metadata": {},
   "source": [
    "## Introduction  \n",
    "In this notebook, we will explore tools and concepts used in data science."
   ]
  },
  {
   "cell_type": "markdown",
   "id": "dbbed9de",
   "metadata": {},
   "source": [
    "## Data Science Languages  \n",
    "- Python  \n",
    "- R  \n",
    "- SQL  \n",
    "- Julia  \n",
    "- Scala"
   ]
  },
  {
   "cell_type": "markdown",
   "id": "f9fb09a4",
   "metadata": {},
   "source": [
    "## Data Science Libraries  \n",
    "- Pandas  \n",
    "- NumPy  \n",
    "- Matplotlib  \n",
    "- Scikit-learn  \n",
    "- TensorFlow  \n",
    "- ggplot2"
   ]
  },
  {
   "cell_type": "markdown",
   "id": "33b3a75b",
   "metadata": {},
   "source": [
    "## Data Science Tools  \n",
    "| Tool | Category |  \n",
    "|------|----------|  \n",
    "| Jupyter Notebook | IDE |  \n",
    "| RStudio | IDE |  \n",
    "| TensorFlow | ML Library |  \n",
    "| Apache Spark | Big Data Tool |  "
   ]
  },
  {
   "cell_type": "markdown",
   "id": "8c3118da",
   "metadata": {},
   "source": [
    "## Examples of Arithmetic Expressions  \n",
    "Below we demonstrate how to multiply and add numbers using Python."
   ]
  },
  {
   "cell_type": "code",
   "execution_count": 1,
   "id": "6416f3e0",
   "metadata": {},
   "outputs": [
    {
     "data": {
      "text/plain": [
       "17"
      ]
     },
     "execution_count": 1,
     "metadata": {},
     "output_type": "execute_result"
    }
   ],
   "source": [
    "(3 * 4) + 5"
   ]
  },
  {
   "cell_type": "code",
   "execution_count": 2,
   "id": "021d074c",
   "metadata": {},
   "outputs": [
    {
     "data": {
      "text/plain": [
       "3.3333333333333335"
      ]
     },
     "execution_count": 2,
     "metadata": {},
     "output_type": "execute_result"
    }
   ],
   "source": [
    "minutes = 200\n",
    "hours = minutes / 60\n",
    "hours"
   ]
  },
  {
   "cell_type": "markdown",
   "id": "bc4eec8c",
   "metadata": {},
   "source": [
    "## Objectives  \n",
    "- List popular languages for Data Science  \n",
    "- List commonly used libraries  \n",
    "- Perform basic arithmetic in code  \n",
    "- Convert time units using Python  \n",
    "- Create and share a notebook using GitHub"
   ]
  },
  {
   "cell_type": "markdown",
   "id": "224d2fbb",
   "metadata": {},
   "source": [
    "## Author  \n",
    "Amitesh Ranjan"
   ]
  }
 ],
 "metadata": {
  "kernelspec": {
   "display_name": "Python 3 (ipykernel)",
   "language": "python",
   "name": "python3"
  },
  "language_info": {
   "codemirror_mode": {
    "name": "ipython",
    "version": 3
   },
   "file_extension": ".py",
   "mimetype": "text/x-python",
   "name": "python",
   "nbconvert_exporter": "python",
   "pygments_lexer": "ipython3",
   "version": "3.11.11"
  }
 },
 "nbformat": 4,
 "nbformat_minor": 5
}
